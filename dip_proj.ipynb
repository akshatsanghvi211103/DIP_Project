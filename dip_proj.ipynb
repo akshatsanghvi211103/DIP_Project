{
  "cells": [
    {
      "cell_type": "markdown",
      "metadata": {
        "colab_type": "text",
        "id": "view-in-github"
      },
      "source": [
        "<a href=\"https://colab.research.google.com/github/akshatsanghvi211103/DIP_Project/blob/main/dip_proj.ipynb\" target=\"_parent\"><img src=\"https://colab.research.google.com/assets/colab-badge.svg\" alt=\"Open In Colab\"/></a>"
      ]
    },
    {
      "cell_type": "code",
      "execution_count": 1,
      "metadata": {
        "colab": {
          "base_uri": "https://localhost:8080/"
        },
        "id": "suQQ9xDAVGmE",
        "outputId": "3aeb719c-ea66-4f31-d2ad-cbd6b435b7e2"
      },
      "outputs": [
        {
          "name": "stdout",
          "output_type": "stream",
          "text": [
            "160.0\n",
            "30.00750187546887\n",
            "(480, 848)\n",
            "0\n",
            "10\n",
            "20\n",
            "30\n",
            "40\n",
            "50\n",
            "60\n",
            "70\n",
            "80\n",
            "90\n",
            "100\n",
            "110\n",
            "120\n",
            "130\n",
            "140\n",
            "150\n"
          ]
        }
      ],
      "source": [
        "import cv2\n",
        "import numpy as np\n",
        "import matplotlib.pyplot as plt\n",
        "from numpy.fft import fft, ifft\n",
        "\n",
        "\n",
        "# Open the video file\n",
        "cap = cv2.VideoCapture('bobble.mp4')\n",
        "frames = cap.get(cv2.CAP_PROP_FRAME_COUNT)\n",
        "fps = cap.get(cv2.CAP_PROP_FPS)\n",
        "print(frames)\n",
        "print(fps)\n",
        "# Initialize previous frame\n",
        "ret, prev_frame = cap.read()\n",
        "prev_frame_gray = cv2.cvtColor(prev_frame, cv2.COLOR_BGR2GRAY)\n",
        "print(prev_frame_gray.shape)\n",
        "\n",
        "# Create a HSV color image for visualizing the optical flow\n",
        "hsv = np.zeros_like(prev_frame)\n",
        "hsv[..., 1] = 255\n",
        "hsv[..., 0] = 255\n",
        "count = 0\n",
        "disp = None\n",
        "# curr = np.zeros((1, prev_frame_gray.shape[0], prev_frame_gray.shape[1], 2)\n",
        "curr = None\n",
        "\n",
        "while True:\n",
        "    ret, frame = cap.read()\n",
        "    if not ret:\n",
        "        break\n",
        "\n",
        "    # cv2.imwrite('frame.jpg', frame)\n",
        "    # break\n",
        "    \n",
        "    # Convert the current frame to grayscale\n",
        "    frame_gray = cv2.cvtColor(frame, cv2.COLOR_BGR2GRAY)\n",
        "\n",
        "    # Calculate optical flow\n",
        "    flow = cv2.calcOpticalFlowFarneback(\n",
        "        prev_frame_gray, frame_gray, None, 0.5, 3, 15, 3, 5, 1.2, 0)\n",
        "    if (disp is None):\n",
        "        # disp = flow[np.newaxis, ...]\n",
        "        curr = np.zeros((1, flow.shape[0], flow.shape[1], flow.shape[2]))\n",
        "        disp = np.zeros((1, flow.shape[0], flow.shape[1], flow.shape[2]))\n",
        "    else:\n",
        "        curr = curr + flow[np.newaxis, ...]\n",
        "        disp = np.concatenate([disp, curr], axis=0)\n",
        "    # print(disp.shape)\n",
        "    # Calculate the magnitude and direction of the optical flow\n",
        "    magnitude, angle = cv2.cartToPolar(flow[..., 0], flow[..., 1])\n",
        "\n",
        "    # Set the hue and value according to the angle and magnitude\n",
        "    # hsv[..., 0] = angle * 180 / np.pi / 2\n",
        "    # np.set_printoptions(threshold = np.inf)\n",
        "    # print(magnitude)\n",
        "    hsv[..., 2] = cv2.normalize(magnitude, None, 0, 255, cv2.NORM_MINMAX)\n",
        "\n",
        "    # Convert HSV to BGR\n",
        "    flow_rgb = cv2.cvtColor(hsv, cv2.COLOR_HSV2BGR)\n",
        "\n",
        "    # Display the frame with optical flow\n",
        "    # print(flow_rgb)\n",
        "    # break\n",
        "    # cv2.imshow('Optical Flow', flow_rgb)\n",
        "\n",
        "    # if cv2.waitKey(30) & 0xFF == 27:  # Press 'Esc' to exit\n",
        "    #     break\n",
        "\n",
        "    # Update the previous frame\n",
        "    prev_frame_gray = frame_gray\n",
        "    if (count % 10 == 0):\n",
        "      print(count)\n",
        "    count += 1\n",
        "    # if (count == 350):\n",
        "    #     break\n"
      ]
    },
    {
      "cell_type": "code",
      "execution_count": 2,
      "metadata": {
        "colab": {
          "base_uri": "https://localhost:8080/",
          "height": 467
        },
        "id": "h-lgESbVVNJY",
        "outputId": "328454bb-2003-4a94-add7-e9758637bb38"
      },
      "outputs": [
        {
          "name": "stdout",
          "output_type": "stream",
          "text": [
            "155\n",
            "-0.025157232704402517\n"
          ]
        },
        {
          "data": {
            "image/png": "[encoded data removed]",
            "text/plain": [
              "<Figure size 432x288 with 1 Axes>"
            ]
          },
          "metadata": {
            "needs_background": "light"
          },
          "output_type": "display_data"
        }
      ],
      "source": [
        "x = disp[:, 215, 260, 1]\n",
        "x = x - np.mean(x)\n",
        "# plt.plot(x)\n",
        "fft_result = np.fft.fft(x)\n",
        "num_samples = x.shape[0]\n",
        "frequencies = np.fft.fftfreq(num_samples)\n",
        "magnitude = np.abs(fft_result)\n",
        "# print(np.max(magnitude))\n",
        "plt.stem(frequencies, magnitude, 'b', markerfmt=\" \", basefmt=\"-b\")\n",
        "\n",
        "max_freq_index = np.argsort(magnitude)[::-1][6]\n",
        "print(max_freq_index)\n",
        "max_freq = frequencies[max_freq_index]\n",
        "print(max_freq)\n",
        "\n",
        "plt.show()\n"
      ]
    },
    {
      "cell_type": "code",
      "execution_count": 29,
      "metadata": {
        "colab": {
          "base_uri": "https://localhost:8080/"
        },
        "id": "vcFujR-EmDvB",
        "outputId": "006b86cc-3e85-42e4-acda-c3a339394817"
      },
      "outputs": [
        {
          "name": "stdout",
          "output_type": "stream",
          "text": [
            "(480, 848, 3)\n",
            "\n"
          ]
        }
      ],
      "source": [
        "print(prev_frame.shape)\n",
        "print()"
      ]
    },
    {
      "cell_type": "code",
      "execution_count": 3,
      "metadata": {
        "colab": {
          "base_uri": "https://localhost:8080/",
          "height": 434
        },
        "id": "0St7Zvdak3xp",
        "outputId": "d40ffd6b-4ad6-42ed-cd63-ea481f1ccc14"
      },
      "outputs": [
        {
          "data": {
            "image/png": "[encoded data removed]",
            "text/plain": [
              "<Figure size 432x288 with 1 Axes>"
            ]
          },
          "metadata": {
            "needs_background": "light"
          },
          "output_type": "display_data"
        }
      ],
      "source": [
        "new_img = np.zeros_like(prev_frame)\n",
        "new_img[:, :, 1] = 255\n",
        "new_img[:, :, 0] = 255\n",
        "freq_index = 34\n",
        "\n",
        "fft_frequencies = None\n",
        "T = disp.shape[0]\n",
        "magnitude_sums = np.zeros(T)\n",
        "\n",
        "for i in range(480):\n",
        "  for j in range(848):\n",
        "    x = disp[:, i, j, 1]\n",
        "    x = x - np.mean(x)\n",
        "    # plt.plot(x)\n",
        "    fft_result = np.fft.fft(x)\n",
        "    num_samples = x.shape[0]\n",
        "    frequencies = np.fft.fftfreq(num_samples)\n",
        "    magnitude = np.abs(fft_result)\n",
        "\n",
        "    fft_frequencies = frequencies\n",
        "    magnitude_sums += magnitude\n",
        "\n",
        "    max_magnitude = magnitude[freq_index]\n",
        "\n",
        "    angle = np.angle(fft_result)[freq_index]\n",
        "    new_img[i, j, 0] = angle\n",
        "    new_img[i, j, 2] = max_magnitude\n",
        "\n",
        "magnitude_sums /= T\n",
        "plt.plot(fft_frequencies, magnitude_sums)\n",
        "\n",
        "\n",
        "new_img[:, :, 2] = cv2.normalize(new_img[:, :, 2], None, 0, 255, cv2.NORM_MINMAX)\n",
        "flow_rgb = cv2.cvtColor(new_img, cv2.COLOR_HSV2BGR)\n",
        "\n",
        "# plt.imshow(flow_rgb)\n",
        "plt.show()\n"
      ]
    },
    {
      "cell_type": "code",
      "execution_count": 4,
      "metadata": {},
      "outputs": [
        {
          "data": {
            "text/plain": [
              "<matplotlib.image.AxesImage at 0x7f939037df40>"
            ]
          },
          "execution_count": 4,
          "metadata": {},
          "output_type": "execute_result"
        },
        {
          "data": {
            "image/png": "[encoded data removed]",
            "text/plain": [
              "<Figure size 432x288 with 1 Axes>"
            ]
          },
          "metadata": {
            "needs_background": "light"
          },
          "output_type": "display_data"
        }
      ],
      "source": [
        "plt.imshow(flow_rgb)"
      ]
    },
    {
      "cell_type": "code",
      "execution_count": 4,
      "metadata": {
        "colab": {
          "base_uri": "https://localhost:8080/"
        },
        "id": "d9qL3GqMA151",
        "outputId": "24077829-c6df-46b4-b79f-d922ecc83a8e"
      },
      "outputs": [
        {
          "name": "stdout",
          "output_type": "stream",
          "text": [
            "34\n",
            "\n",
            "0.2138364779874214\n",
            "\n",
            "7547.76929957539\n"
          ]
        }
      ],
      "source": [
        "index = np.argsort(magnitude_sums)[::-1]\n",
        "main_index = 0\n",
        "count = 0\n",
        "for i in range(1, index.shape[0] - 1):\n",
        "  if ((magnitude_sums[i] > magnitude_sums[i - 1]) & (magnitude_sums[i] > magnitude_sums[i + 1])):\n",
        "    main_index = i\n",
        "    count += 1\n",
        "\n",
        "  if count > 3:\n",
        "    break\n",
        "\n",
        "print(main_index)\n",
        "print()\n",
        "print(fft_frequencies[main_index])\n",
        "print()\n",
        "print(magnitude_sums[main_index])"
      ]
    },
    {
      "cell_type": "code",
      "execution_count": 5,
      "metadata": {
        "id": "NWax6_SVvWw2"
      },
      "outputs": [],
      "source": [
        "w_index = 34\n",
        "best_mode = []\n",
        "for i in range(480):\n",
        "  for j in range(848):\n",
        "    x = disp[:, i, j, 1]\n",
        "    x = x - np.mean(x)\n",
        "    # plt.plot(x)\n",
        "    fft_result = np.fft.fft(x)\n",
        "    best_mode.append(fft_result[w_index])\n",
        "\n",
        "best_mode = np.array(best_mode)"
      ]
    },
    {
      "cell_type": "markdown",
      "metadata": {
        "id": "yjURxgsevbeb"
      },
      "source": [
        "Using their modal coordinate equation"
      ]
    },
    {
      "cell_type": "code",
      "execution_count": 6,
      "metadata": {
        "colab": {
          "base_uri": "https://localhost:8080/",
          "height": 576
        },
        "id": "fuFSsxn2CPnB",
        "outputId": "24def408-9ace-4383-bc77-e711922518f1"
      },
      "outputs": [
        {
          "name": "stdout",
          "output_type": "stream",
          "text": [
            "[[0.         0.        ]\n",
            " [0.         0.34947445]\n",
            " [0.34947445 0.32705533]\n",
            " ...\n",
            " [0.00103369 0.00339874]\n",
            " [0.00443243 0.00313344]\n",
            " [0.00756587 0.00272975]]\n"
          ]
        },
        {
          "data": {
            "text/plain": [
              "[<matplotlib.lines.Line2D at 0x7f93655a5820>]"
            ]
          },
          "execution_count": 6,
          "metadata": {},
          "output_type": "execute_result"
        },
        {
          "data": {
            "image/png": "[encoded data removed]",
            "text/plain": [
              "<Figure size 432x288 with 1 Axes>"
            ]
          },
          "metadata": {
            "needs_background": "light"
          },
          "output_type": "display_data"
        }
      ],
      "source": [
        "a = 1\n",
        "p = [220, 519] # point of application of force\n",
        "d = [-1, 1] # x and y component\n",
        "f_i = d[1] * np.abs(best_mode[p[0] * 848 + p[1]])\n",
        "f = f_i\n",
        "\n",
        "t = 500\n",
        "y = np.zeros((t + 1, 2))\n",
        "h = 1 # we had assumed time stamp is 1 in the x+vt\n",
        "d = 0.15\n",
        "m = 1\n",
        "w = 0.2138364779874214\n",
        "\n",
        "\n",
        "m1 = np.array([[1, h], [-w**2 * h, 1 - 2*d*w*h]])\n",
        "m2 = np.array([0, h/m])\n",
        "for i in range(t):\n",
        "  if(i != 0):\n",
        "    f = 0\n",
        "  y[i + 1] = (m1 @ y[i].T) + (m2.T * f)\n",
        "  y[i + 1] = y[i + 1].T\n",
        "\n",
        "\n",
        "print(y)\n",
        "plt.plot(y[:, 0])\n"
      ]
    },
    {
      "cell_type": "markdown",
      "metadata": {
        "id": "Nq1cYlUtokrH"
      },
      "source": [
        "Finding phi (modal matrix)"
      ]
    },
    {
      "cell_type": "code",
      "execution_count": 7,
      "metadata": {
        "colab": {
          "base_uri": "https://localhost:8080/",
          "height": 256
        },
        "id": "57XkYRDLokLK",
        "outputId": "490c01dd-f481-40bb-a456-9f2bd037d067"
      },
      "outputs": [
        {
          "name": "stdout",
          "output_type": "stream",
          "text": [
            "(500, 407040)\n"
          ]
        }
      ],
      "source": [
        "final_destination = np.zeros((t, 480*848))\n",
        "\n",
        "for i in range(t):\n",
        "  q = np.complex128(y[i][0] + (y[i][1] / w) * 1j)\n",
        "  final_destination[i, :] = (q * best_mode).real\n",
        "\n",
        "print(final_destination.shape)"
      ]
    },
    {
      "cell_type": "code",
      "execution_count": 8,
      "metadata": {
        "id": "0sJ5D4qn6DlH"
      },
      "outputs": [
        {
          "data": {
            "text/plain": [
              "[<matplotlib.lines.Line2D at 0x7f93902007c0>]"
            ]
          },
          "execution_count": 8,
          "metadata": {},
          "output_type": "execute_result"
        },
        {
          "data": {
            "image/png": "[encoded data removed]",
            "text/plain": [
              "<Figure size 432x288 with 1 Axes>"
            ]
          },
          "metadata": {
            "needs_background": "light"
          },
          "output_type": "display_data"
        }
      ],
      "source": [
        "p2 = [215, 260]\n",
        "ans = final_destination[:, p2[0] * 848 + p2[1]]\n",
        "plt.plot(ans)"
      ]
    },
    {
      "cell_type": "code",
      "execution_count": 9,
      "metadata": {
        "id": "AZJT5wME6f6l"
      },
      "outputs": [
        {
          "name": "stdout",
          "output_type": "stream",
          "text": [
            "(500, 407040)\n"
          ]
        }
      ],
      "source": [
        "print(final_destination.shape)\n",
        "final_destination = final_destination / 750"
      ]
    },
    {
      "cell_type": "code",
      "execution_count": 10,
      "metadata": {},
      "outputs": [],
      "source": [
        "frame = cv2.imread('frame.jpg')"
      ]
    },
    {
      "cell_type": "code",
      "execution_count": 20,
      "metadata": {},
      "outputs": [
        {
          "ename": "KeyboardInterrupt",
          "evalue": "",
          "output_type": "error",
          "traceback": [
            "\u001b[0;31m---------------------------------------------------------------------------\u001b[0m",
            "\u001b[0;31mKeyboardInterrupt\u001b[0m                         Traceback (most recent call last)",
            "\u001b[1;32m/home/akshat/dip_project/DIP_Project/dip_proj.ipynb Cell 16\u001b[0m in \u001b[0;36m<cell line: 8>\u001b[0;34m()\u001b[0m\n\u001b[1;32m     <a href='vscode-notebook-cell:/home/akshat/dip_project/DIP_Project/dip_proj.ipynb#X21sZmlsZQ%3D%3D?line=17'>18</a>\u001b[0m \u001b[39m# Check if the new x-coordinate is within the frame\u001b[39;00m\n\u001b[1;32m     <a href='vscode-notebook-cell:/home/akshat/dip_project/DIP_Project/dip_proj.ipynb#X21sZmlsZQ%3D%3D?line=18'>19</a>\u001b[0m \u001b[39mif\u001b[39;00m \u001b[39m0\u001b[39m \u001b[39m<\u001b[39m\u001b[39m=\u001b[39m new_x \u001b[39m<\u001b[39m current_frame\u001b[39m.\u001b[39mshape[\u001b[39m0\u001b[39m]:\n\u001b[1;32m     <a href='vscode-notebook-cell:/home/akshat/dip_project/DIP_Project/dip_proj.ipynb#X21sZmlsZQ%3D%3D?line=19'>20</a>\u001b[0m     \u001b[39m# Apply optical flow to the pixel\u001b[39;00m\n\u001b[0;32m---> <a href='vscode-notebook-cell:/home/akshat/dip_project/DIP_Project/dip_proj.ipynb#X21sZmlsZQ%3D%3D?line=20'>21</a>\u001b[0m     current_frame[new_x, x] \u001b[39m=\u001b[39m frame[y, x]\n\u001b[1;32m     <a href='vscode-notebook-cell:/home/akshat/dip_project/DIP_Project/dip_proj.ipynb#X21sZmlsZQ%3D%3D?line=21'>22</a>\u001b[0m \u001b[39melse\u001b[39;00m:\n\u001b[1;32m     <a href='vscode-notebook-cell:/home/akshat/dip_project/DIP_Project/dip_proj.ipynb#X21sZmlsZQ%3D%3D?line=22'>23</a>\u001b[0m     \u001b[39m# Mark the pixel for inpainting (out of frame)\u001b[39;00m\n\u001b[1;32m     <a href='vscode-notebook-cell:/home/akshat/dip_project/DIP_Project/dip_proj.ipynb#X21sZmlsZQ%3D%3D?line=23'>24</a>\u001b[0m     inpainting_mask[y, x] \u001b[39m=\u001b[39m \u001b[39m255\u001b[39m  \u001b[39m# Set to white\u001b[39;00m\n",
            "\u001b[0;31mKeyboardInterrupt\u001b[0m: "
          ]
        },
        {
          "ename": "",
          "evalue": "",
          "output_type": "error",
          "traceback": [
            "\u001b[1;31mThe Kernel crashed while executing code in the the current cell or a previous cell. Please review the code in the cell(s) to identify a possible cause of the failure. Click <a href='https://aka.ms/vscodeJupyterKernelCrash'>here</a> for more info. View Jupyter <a href='command:jupyter.viewOutput'>log</a> for further details."
          ]
        }
      ],
      "source": [
        "# inpainting_mask = np.zeros_like(frame, dtype=np.uint8)\n",
        "inpainting_mask = np.zeros((frame.shape[0], frame.shape[1]), dtype=np.uint8)\n",
        "\n",
        "# Initialize the current frame with the initial frame\n",
        "current_frame = np.ones_like(frame, dtype=np.uint8) * 255\n",
        "video_frames = []\n",
        "# Loop through each frame\n",
        "for frame_idx in range(200):\n",
        "    flow_data_x = final_destination[frame_idx]  # X-direction flow data for the current frame\n",
        "    # Loop through each pixel's optical flow in the current frame\n",
        "    for y in range(480):\n",
        "        for x in range(848):\n",
        "            flow_x = flow_data_x[y * 848 + x]\n",
        "            new_x = int(y + flow_x)\n",
        "            if (flow_x > 1):\n",
        "                print(flow_x, y, x)\n",
        "\n",
        "            # Check if the new x-coordinate is within the frame\n",
        "            if 0 <= new_x < current_frame.shape[0]:\n",
        "                # Apply optical flow to the pixel\n",
        "                current_frame[new_x, x] = frame[y, x]\n",
        "            else:\n",
        "                # Mark the pixel for inpainting (out of frame)\n",
        "                inpainting_mask[y, x] = 255  # Set to white\n",
        "\n",
        "\n",
        "    for i in range(480):\n",
        "        for j in range(848):\n",
        "            if (inpainting_mask[i, j] == 255):\n",
        "                current_frame[i, j] = 0\n",
        "                inpainting_mask[i, j] = 255\n",
        "    # Perform inpainting on the current frame to fill gaps\n",
        "    inpainting_radius = 5  # Adjust the radius as needed\n",
        "    current_frame = cv2.inpaint(current_frame, inpainting_mask, inpainting_radius, cv2.INPAINT_TELEA)\n",
        "    video_frames.append(current_frame)\n",
        "\n",
        "    # Display or save the current frame\n",
        "    cv2.imshow('Inpainting Result', current_frame)\n",
        "    cv2.waitKey(1)  # Adjust the delay between frames as needed (ms)\n",
        "\n",
        "cv2.destroyAllWindows()\n"
      ]
    },
    {
      "cell_type": "code",
      "execution_count": 16,
      "metadata": {},
      "outputs": [],
      "source": [
        "# converting all the frames to a video\n",
        "height, width, layers = video_frames[0].shape\n",
        "size = (width, height)\n",
        "out = cv2.VideoWriter('project_y.avi', cv2.VideoWriter_fourcc(*'DIVX'), 15, size)\n",
        "for i in range(len(video_frames)):\n",
        "    out.write(video_frames[i])\n",
        "out.release()\n"
      ]
    }
  ],
  "metadata": {
    "colab": {
      "authorship_tag": "ABX9TyMLNXY0ILgwcOlBI4GB5rru",
      "include_colab_link": true,
      "provenance": []
    },
    "kernelspec": {
      "display_name": "Python 3",
      "name": "python3"
    },
    "language_info": {
      "codemirror_mode": {
        "name": "ipython",
        "version": 3
      },
      "file_extension": ".py",
      "mimetype": "text/x-python",
      "name": "python",
      "nbconvert_exporter": "python",
      "pygments_lexer": "ipython3",
      "version": "3.8.10"
    }
  },
  "nbformat": 4,
  "nbformat_minor": 0
}
